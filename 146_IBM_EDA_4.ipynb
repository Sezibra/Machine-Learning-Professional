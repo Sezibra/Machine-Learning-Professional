{
 "cells": [
  {
   "cell_type": "markdown",
   "id": "768bf088-bc6b-467e-b711-cd18fe1fa526",
   "metadata": {},
   "source": [
    "### EXPLORATIVE DATA ANALYSIS (EDA) 4"
   ]
  },
  {
   "cell_type": "markdown",
   "id": "ffdc4979-9b24-400f-a471-e6e994caf24c",
   "metadata": {},
   "source": [
    "* 'Estimation' is the application of an algorithm, for example taking an average\n",
    "* 'Inference' involves putting an accuracy on the estimate (e.g. standard error of an evarage)\n",
    "* Machine Learning and statistical inference are similar: In both cases, you are using data to learn/infer qualities of a distribution that generated the data (data-generating process)."
   ]
  },
  {
   "cell_type": "markdown",
   "id": "c771d3fd-eef2-4bda-ad93-e9ddefa35e40",
   "metadata": {},
   "source": [
    "* If 'inference' is about trying to find out the Data-Generating Process (DGP), then we can say that a statistical model (of the data) is a set of possible distributions or maybe even regressions.\n",
    "* A 'parametric' model is a particular type of statistical model: it's also a set of distributions or regressions, but they have a finite number of parameters.\n",
    "* In 'non-parametric' statistics, we make fewer assumptions. In particular, we don't assume that the data belong to any particular distribution (distribution-free inference)"
   ]
  },
  {
   "cell_type": "markdown",
   "id": "ca94ef9d-0981-46a3-9553-9ec574ff37c0",
   "metadata": {},
   "source": [
    "* An example of a parametric Model: A Normal Distribution\n",
    "* The most common way of estimating parameters in a parametric model is through 'maximum likelihood estimation (MLE)'."
   ]
  },
  {
   "cell_type": "markdown",
   "id": "297a0663-4676-4de7-aff6-9ff7bf9ea0cc",
   "metadata": {},
   "source": [
    "#### COMMON DISTRIBUTIONS"
   ]
  },
  {
   "cell_type": "markdown",
   "id": "696d6f51-d02f-4653-9f4d-7b3295f7a037",
   "metadata": {},
   "source": [
    "* 'Uniform Distibution': uniformly equal chance that you get any value in your range.\n",
    "* 'Gaussian/Normal Distribution: Most likely is the closest to the mean. \n",
    "* 'Log Normal Distribution': if you take the log of the distribution then you have a normal distribution.\n",
    "* 'Exponential Distribution': What is going to be the amount of time before the next event.\n",
    "* 'Poisson Distribution': Number of events during the certain amount of time."
   ]
  },
  {
   "cell_type": "markdown",
   "id": "a7bd687f-4f8e-46d4-8c75-63f3f37da208",
   "metadata": {},
   "source": [
    "#### FREQUENTIST vs. BAYESIAN STATISTICS"
   ]
  },
  {
   "cell_type": "markdown",
   "id": "2e4f18fb-6dd4-4aa6-939a-c2723a224d15",
   "metadata": {},
   "source": [
    "* A 'Frequentist' is concerned with repeated observations in the limit. (No prior knowledge, many repeats of an experiment, collect as much data as possible)\n",
    "* A 'Bayesian' describes parameters by probability distributions. (before seeing the data, a prior distribution is formulated. Update the prior distribution after seeing data. This new updated distribution is called posterior distribution."
   ]
  },
  {
   "cell_type": "markdown",
   "id": "1f7b433e",
   "metadata": {},
   "source": [
    "#### HYPOTHESIS TESTING: TERMINOLOGY"
   ]
  },
  {
   "cell_type": "markdown",
   "id": "ff779535",
   "metadata": {},
   "source": [
    "* The likelihood ration is called a 'test statistic': we use it to decide whether to accept/reject H0.\n",
    "* The 'rejection region': is the set of values of the test statistic that lead to rejection of H0.\n",
    "* The 'acceptance region': is the set of values of the test statistic that lead to acceptance of H0.\n",
    "* The 'null distribution': is test statistic's distribution when the null is true."
   ]
  },
  {
   "cell_type": "code",
   "execution_count": 1,
   "id": "3f4e5259",
   "metadata": {},
   "outputs": [],
   "source": [
    "import matplotlib.pyplot as plt\n",
    "import numpy as np\n",
    "from scipy import stats \n",
    "import math"
   ]
  },
  {
   "cell_type": "markdown",
   "id": "64694c14",
   "metadata": {},
   "source": [
    "Our null hypothesis should be that I'm not special. My true rate of flip prediction is actually just 50/50, that every time you flip a coin I have an equal chance of getting it correct or incorrect. And even under this hypothesis, I could get 57 out of 100, right? So we want to determine did I get lucky and get 57 by random chance or am I truly mystical and can predict above the 50/50 chance? The alternative would be that my true rate of flip prediction is actually greater than 0.5, so that I actually can do better than a 50/50 guess. And the thing that we're measuring from the experiment or our test statistic, which allows us to decide whether to reject or accept the null, will depend on the number of correct flip predictions out of 100. Now if the null hypothesis is correct, the test statistic is binomially distributed with parameters n = 100, number of flips and P equals 0.5. That is, if we repeated this whole experiment many times, kept flipping 100 and saying how many we got correct, we would see such a distribution for all of the results. So if the null hypothesis is correct, how likely is it that I would get 57 or more coin flips correct? That's the question that we're trying to ask. Before we check, we want to put a marker and say anything above this marker or below this marker in regards to this chance of me getting a certain amount correct, will convince us that I have ESP."
   ]
  },
  {
   "cell_type": "code",
   "execution_count": 2,
   "id": "557327c1",
   "metadata": {},
   "outputs": [
    {
     "name": "stdout",
     "output_type": "stream",
     "text": [
      "9.7%\n"
     ]
    }
   ],
   "source": [
    "from scipy.stats import binom\n",
    "prob = 1 - binom.cdf(56, 100, 0.5)\n",
    "\n",
    "print(str(round(prob*100,1))+\"%\")"
   ]
  },
  {
   "cell_type": "markdown",
   "id": "bb76113d",
   "metadata": {},
   "source": [
    "The probability of getting 57 or more correct is about 9.7%. This is more than 5%, so we can't reject the null (H0) hypothesis."
   ]
  },
  {
   "cell_type": "code",
   "execution_count": 3,
   "id": "2a0b40cc",
   "metadata": {},
   "outputs": [
    {
     "name": "stdout",
     "output_type": "stream",
     "text": [
      "59.0\n"
     ]
    }
   ],
   "source": [
    "from scipy.stats import binom\n",
    "print(binom.ppf(0.95, 100, 0.5)+1)"
   ]
  },
  {
   "cell_type": "markdown",
   "id": "62ee3f5c",
   "metadata": {},
   "source": [
    "one should get 59 tosses or more to be considered clairvoyant. And we will say the person has predictive power with a confidence level of 95%.\n",
    "\n"
   ]
  },
  {
   "cell_type": "markdown",
   "id": "45852014",
   "metadata": {},
   "source": [
    "just say, we have two competing hypotheses: \n",
    "- Hypothesis A: There is no predictive power \n",
    "- Hypothesis B: There is a 60% predictive power\n",
    "\n",
    "Each is a normal curve, with one centered at 50% and the other at 60%."
   ]
  },
  {
   "cell_type": "code",
   "execution_count": 4,
   "id": "e379134d",
   "metadata": {},
   "outputs": [
    {
     "data": {
      "image/png": "[encoded data removed]",
      "text/plain": [
       "<Figure size 640x480 with 1 Axes>"
      ]
     },
     "metadata": {},
     "output_type": "display_data"
    }
   ],
   "source": [
    "mu = 50\n",
    "variance = 10\n",
    "sigma = math.sqrt(variance)\n",
    "x = np.linspace(1,100,200)\n",
    "plt.plot(x,stats.norm.pdf(x,mu,sigma))\n",
    "\n",
    "mu = 60\n",
    "variance = 10\n",
    "sigma = math.sqrt(variance)\n",
    "x = np.linspace(1,100,200)\n",
    "\n",
    "plt.xlim(30,80)\n",
    "plt.show()"
   ]
  },
  {
   "cell_type": "markdown",
   "id": "0a8f52aa",
   "metadata": {},
   "source": []
  },
  {
   "cell_type": "markdown",
   "id": "a63713a4",
   "metadata": {},
   "source": [
    "And 57 correct guesses falls within the 95% confidence of both the curves:"
   ]
  },
  {
   "cell_type": "code",
   "execution_count": 5,
   "id": "1dc66d88",
   "metadata": {},
   "outputs": [
    {
     "name": "stdout",
     "output_type": "stream",
     "text": [
      "0.06660530960360689\n",
      "0.3032601298434456\n"
     ]
    }
   ],
   "source": [
    "print(1-binom.cdf(57,100,0.5))\n",
    "print(binom.cdf(57,100,0.6))"
   ]
  },
  {
   "cell_type": "markdown",
   "id": "c4e24669",
   "metadata": {},
   "source": [
    "DECREASE CONFIDENCE: Since we have a claim at 50 and 60, we can pick the mid-point, which is 55. We can say if I can predict over 55, then I have predictive power. This would mean that we have decreased our confidence level."
   ]
  },
  {
   "cell_type": "markdown",
   "id": "d5ff2057",
   "metadata": {},
   "source": []
  },
  {
   "cell_type": "code",
   "execution_count": 6,
   "id": "fa79847b",
   "metadata": {},
   "outputs": [
    {
     "name": "stdout",
     "output_type": "stream",
     "text": [
      "0.13562651203691778\n",
      "0.13109045261974764\n"
     ]
    }
   ],
   "source": [
    "print(1-binom.cdf(55,100,0.5))\n",
    "print(binom.cdf(54,100,0.6))"
   ]
  },
  {
   "cell_type": "markdown",
   "id": "afd4afec",
   "metadata": {},
   "source": [
    "At an 87% percent confidence level, we can say that I have some predictive power, since I got 57 tosses correct."
   ]
  },
  {
   "cell_type": "markdown",
   "id": "a28804f7",
   "metadata": {},
   "source": [
    "#### Be biased"
   ]
  },
  {
   "cell_type": "code",
   "execution_count": 7,
   "id": "7d2ceb94",
   "metadata": {},
   "outputs": [
    {
     "data": {
      "text/plain": [
       "58.0"
      ]
     },
     "execution_count": 7,
     "metadata": {},
     "output_type": "execute_result"
    }
   ],
   "source": [
    "binom.ppf(0.95,100,0.5)"
   ]
  },
  {
   "cell_type": "code",
   "execution_count": 8,
   "id": "27b1d428",
   "metadata": {},
   "outputs": [
    {
     "name": "stdout",
     "output_type": "stream",
     "text": [
      "0.04431304005703385\n",
      "0.37746732387782933\n"
     ]
    }
   ],
   "source": [
    "print (1-binom.cdf(58, 100, 0.5))\n",
    "print (binom.cdf(58, 100, 0.6))"
   ]
  },
  {
   "cell_type": "markdown",
   "id": "5cb8e244",
   "metadata": {},
   "source": [
    "5% chance someone has no power and we say they do. But a 38% chance someone has predictive power and we say no. "
   ]
  },
  {
   "cell_type": "markdown",
   "id": "1d852b26",
   "metadata": {},
   "source": [
    "#### Increased Sample Size: 1000 tosses instead of 100."
   ]
  },
  {
   "cell_type": "code",
   "execution_count": 9,
   "id": "f475a39b",
   "metadata": {},
   "outputs": [
    {
     "data": {
      "image/png": "[encoded data removed]",
      "text/plain": [
       "<Figure size 640x480 with 1 Axes>"
      ]
     },
     "metadata": {},
     "output_type": "display_data"
    }
   ],
   "source": [
    "mu = 50\n",
    "variance = 1\n",
    "sigma = math.sqrt(variance)\n",
    "x = np.linspace(1, 100, 1000)\n",
    "plt.plot(x,stats.norm.pdf(x, mu, sigma))\n",
    "\n",
    "mu = 60\n",
    "variance = 1\n",
    "sigma = math.sqrt(variance)\n",
    "x = np.linspace(1, 100, 1000)\n",
    "plt.plot(x,stats.norm.pdf(x, mu, sigma))\n",
    "\n",
    "plt.xlim(45,65)\n",
    "plt.show()"
   ]
  },
  {
   "cell_type": "markdown",
   "id": "b93754d6",
   "metadata": {},
   "source": []
  },
  {
   "cell_type": "code",
   "execution_count": 10,
   "id": "2979f88f",
   "metadata": {},
   "outputs": [
    {
     "name": "stdout",
     "output_type": "stream",
     "text": [
      "526.0\n",
      "574.0\n"
     ]
    }
   ],
   "source": [
    "print (binom.ppf(0.95,1000,0.5))\n",
    "print (binom.ppf(0.05,1000,0.6))"
   ]
  },
  {
   "cell_type": "code",
   "execution_count": 11,
   "id": "cc4918e9",
   "metadata": {},
   "outputs": [
    {
     "name": "stdout",
     "output_type": "stream",
     "text": [
      "0.0006958707972110068\n",
      "0.0007412028990060175\n"
     ]
    }
   ],
   "source": [
    "# errors now?\n",
    "\n",
    "print (1-binom.cdf(550, 1000, 0.5))\n",
    "print (binom.cdf(550, 1000, 0.6))"
   ]
  },
  {
   "cell_type": "code",
   "execution_count": 12,
   "id": "05d45a51",
   "metadata": {},
   "outputs": [],
   "source": [
    "import warnings \n",
    "warnings.filterwarnings('ignore')"
   ]
  },
  {
   "cell_type": "code",
   "execution_count": 13,
   "id": "2b6fcb67",
   "metadata": {},
   "outputs": [],
   "source": [
    "import pandas as pd\n",
    "import numpy as np\n",
    "\n",
    "import matplotlib.pyplot as plt\n",
    "%matplotlib inline\n",
    "import seaborn as sns\n",
    "\n",
    "import scipy.stats as stats \n",
    "from scipy.stats import chi2_contingency\n",
    "\n",
    "from statsmodels.formula.api import ols\n",
    "from statsmodels.stats.anova import anova_lm"
   ]
  },
  {
   "cell_type": "code",
   "execution_count": 17,
   "id": "91badc83",
   "metadata": {},
   "outputs": [
    {
     "data": {
      "text/html": [
       "<div>\n",
       "<style scoped>\n",
       "    .dataframe tbody tr th:only-of-type {\n",
       "        vertical-align: middle;\n",
       "    }\n",
       "\n",
       "    .dataframe tbody tr th {\n",
       "        vertical-align: top;\n",
       "    }\n",
       "\n",
       "    .dataframe thead th {\n",
       "        text-align: right;\n",
       "    }\n",
       "</style>\n",
       "<table border=\"1\" class=\"dataframe\">\n",
       "  <thead>\n",
       "    <tr style=\"text-align: right;\">\n",
       "      <th></th>\n",
       "      <th>age</th>\n",
       "      <th>sex</th>\n",
       "      <th>bmi</th>\n",
       "      <th>children</th>\n",
       "      <th>smoker</th>\n",
       "      <th>region</th>\n",
       "      <th>charges</th>\n",
       "    </tr>\n",
       "  </thead>\n",
       "  <tbody>\n",
       "    <tr>\n",
       "      <th>0</th>\n",
       "      <td>19</td>\n",
       "      <td>female</td>\n",
       "      <td>27.900</td>\n",
       "      <td>0</td>\n",
       "      <td>yes</td>\n",
       "      <td>southwest</td>\n",
       "      <td>16884.92400</td>\n",
       "    </tr>\n",
       "    <tr>\n",
       "      <th>1</th>\n",
       "      <td>18</td>\n",
       "      <td>male</td>\n",
       "      <td>33.770</td>\n",
       "      <td>1</td>\n",
       "      <td>no</td>\n",
       "      <td>southeast</td>\n",
       "      <td>1725.55230</td>\n",
       "    </tr>\n",
       "    <tr>\n",
       "      <th>2</th>\n",
       "      <td>28</td>\n",
       "      <td>male</td>\n",
       "      <td>33.000</td>\n",
       "      <td>3</td>\n",
       "      <td>no</td>\n",
       "      <td>southeast</td>\n",
       "      <td>4449.46200</td>\n",
       "    </tr>\n",
       "    <tr>\n",
       "      <th>3</th>\n",
       "      <td>33</td>\n",
       "      <td>male</td>\n",
       "      <td>22.705</td>\n",
       "      <td>0</td>\n",
       "      <td>no</td>\n",
       "      <td>northwest</td>\n",
       "      <td>21984.47061</td>\n",
       "    </tr>\n",
       "    <tr>\n",
       "      <th>4</th>\n",
       "      <td>32</td>\n",
       "      <td>male</td>\n",
       "      <td>28.880</td>\n",
       "      <td>0</td>\n",
       "      <td>no</td>\n",
       "      <td>northwest</td>\n",
       "      <td>3866.85520</td>\n",
       "    </tr>\n",
       "  </tbody>\n",
       "</table>\n",
       "</div>"
      ],
      "text/plain": [
       "   age     sex     bmi  children smoker     region      charges\n",
       "0   19  female  27.900         0    yes  southwest  16884.92400\n",
       "1   18    male  33.770         1     no  southeast   1725.55230\n",
       "2   28    male  33.000         3     no  southeast   4449.46200\n",
       "3   33    male  22.705         0     no  northwest  21984.47061\n",
       "4   32    male  28.880         0     no  northwest   3866.85520"
      ]
     },
     "execution_count": 17,
     "metadata": {},
     "output_type": "execute_result"
    }
   ],
   "source": [
    "RL = 'https://cf-courses-data.s3.us.cloud-object-storage.appdomain.cloud/IBM-ML0232EN-SkillsNetwork/asset/insurance.csv'\n",
    "data = pd.read_csv(URL)\n",
    "data.head()"
   ]
  },
  {
   "cell_type": "code",
   "execution_count": 18,
   "id": "21afd98b",
   "metadata": {},
   "outputs": [
    {
     "name": "stdout",
     "output_type": "stream",
     "text": [
      "<class 'pandas.core.frame.DataFrame'>\n",
      "RangeIndex: 1338 entries, 0 to 1337\n",
      "Data columns (total 7 columns):\n",
      " #   Column    Non-Null Count  Dtype  \n",
      "---  ------    --------------  -----  \n",
      " 0   age       1338 non-null   int64  \n",
      " 1   sex       1338 non-null   object \n",
      " 2   bmi       1338 non-null   float64\n",
      " 3   children  1338 non-null   int64  \n",
      " 4   smoker    1338 non-null   object \n",
      " 5   region    1338 non-null   object \n",
      " 6   charges   1338 non-null   float64\n",
      "dtypes: float64(2), int64(2), object(3)\n",
      "memory usage: 73.3+ KB\n"
     ]
    }
   ],
   "source": [
    "data.info()"
   ]
  },
  {
   "cell_type": "code",
   "execution_count": 19,
   "id": "076f2342",
   "metadata": {},
   "outputs": [
    {
     "data": {
      "text/html": [
       "<div>\n",
       "<style scoped>\n",
       "    .dataframe tbody tr th:only-of-type {\n",
       "        vertical-align: middle;\n",
       "    }\n",
       "\n",
       "    .dataframe tbody tr th {\n",
       "        vertical-align: top;\n",
       "    }\n",
       "\n",
       "    .dataframe thead th {\n",
       "        text-align: right;\n",
       "    }\n",
       "</style>\n",
       "<table border=\"1\" class=\"dataframe\">\n",
       "  <thead>\n",
       "    <tr style=\"text-align: right;\">\n",
       "      <th></th>\n",
       "      <th>age</th>\n",
       "      <th>bmi</th>\n",
       "      <th>children</th>\n",
       "      <th>charges</th>\n",
       "    </tr>\n",
       "  </thead>\n",
       "  <tbody>\n",
       "    <tr>\n",
       "      <th>count</th>\n",
       "      <td>1338.000000</td>\n",
       "      <td>1338.000000</td>\n",
       "      <td>1338.000000</td>\n",
       "      <td>1338.000000</td>\n",
       "    </tr>\n",
       "    <tr>\n",
       "      <th>mean</th>\n",
       "      <td>39.207025</td>\n",
       "      <td>30.663397</td>\n",
       "      <td>1.094918</td>\n",
       "      <td>13270.422265</td>\n",
       "    </tr>\n",
       "    <tr>\n",
       "      <th>std</th>\n",
       "      <td>14.049960</td>\n",
       "      <td>6.098187</td>\n",
       "      <td>1.205493</td>\n",
       "      <td>12110.011237</td>\n",
       "    </tr>\n",
       "    <tr>\n",
       "      <th>min</th>\n",
       "      <td>18.000000</td>\n",
       "      <td>15.960000</td>\n",
       "      <td>0.000000</td>\n",
       "      <td>1121.873900</td>\n",
       "    </tr>\n",
       "    <tr>\n",
       "      <th>25%</th>\n",
       "      <td>27.000000</td>\n",
       "      <td>26.296250</td>\n",
       "      <td>0.000000</td>\n",
       "      <td>4740.287150</td>\n",
       "    </tr>\n",
       "    <tr>\n",
       "      <th>50%</th>\n",
       "      <td>39.000000</td>\n",
       "      <td>30.400000</td>\n",
       "      <td>1.000000</td>\n",
       "      <td>9382.033000</td>\n",
       "    </tr>\n",
       "    <tr>\n",
       "      <th>75%</th>\n",
       "      <td>51.000000</td>\n",
       "      <td>34.693750</td>\n",
       "      <td>2.000000</td>\n",
       "      <td>16639.912515</td>\n",
       "    </tr>\n",
       "    <tr>\n",
       "      <th>max</th>\n",
       "      <td>64.000000</td>\n",
       "      <td>53.130000</td>\n",
       "      <td>5.000000</td>\n",
       "      <td>63770.428010</td>\n",
       "    </tr>\n",
       "  </tbody>\n",
       "</table>\n",
       "</div>"
      ],
      "text/plain": [
       "               age          bmi     children       charges\n",
       "count  1338.000000  1338.000000  1338.000000   1338.000000\n",
       "mean     39.207025    30.663397     1.094918  13270.422265\n",
       "std      14.049960     6.098187     1.205493  12110.011237\n",
       "min      18.000000    15.960000     0.000000   1121.873900\n",
       "25%      27.000000    26.296250     0.000000   4740.287150\n",
       "50%      39.000000    30.400000     1.000000   9382.033000\n",
       "75%      51.000000    34.693750     2.000000  16639.912515\n",
       "max      64.000000    53.130000     5.000000  63770.428010"
      ]
     },
     "execution_count": 19,
     "metadata": {},
     "output_type": "execute_result"
    }
   ],
   "source": [
    "data.describe()"
   ]
  },
  {
   "cell_type": "markdown",
   "id": "d9b5f89d",
   "metadata": {},
   "source": [
    "$ 𝐻_{0}:\\mu_{1}-\\mu_{2} = 0 $ There is no difference between the BMI of male and BMI of female. \\\n",
    "$ 𝐻_{A}:\\mu_{1}-\\mu_{2} \\ne 0 $ There is a difference between the BMI of male and BMI of female."
   ]
  },
  {
   "cell_type": "markdown",
   "id": "ecd2c383",
   "metadata": {},
   "source": [
    "![](https://cf-courses-data.s3.us.cloud-object-storage.appdomain.cloud/IBM-ML0232EN-SkillsNetwork/asset/Hypothesis_Testing_3.png)"
   ]
  },
  {
   "cell_type": "markdown",
   "id": "4ca83a8f",
   "metadata": {},
   "source": [
    "To set the criteria for a decision, we state the level of significance for a test. It could be 5%, 1% or 0.5%. Based on the level of significance, we can make a decision whether to accept the null hypothesis and reject the alternate, and vise versa.\n",
    "\n",
    "The diagram above describes the principles of hypothesis testing. We will choose 5% significance level. Therefore, our $ \\alpha=0.05 $. Since we have a 2-tailed test, we have to divide alpha by 2, which gives us 0.025. So, if the calculated p-value is less than alpha, we will reject the null hypothesis. The significance level is based on the business requirements.\n",
    "\n",
    "I will use one of the t-test, z-score, f-score or chi-squared statistics to evaluate our results."
   ]
  },
  {
   "cell_type": "code",
   "execution_count": 20,
   "id": "37686972",
   "metadata": {},
   "outputs": [],
   "source": [
    "# get all observations for females and males by using the loc() function.\n",
    "\n",
    "female = data.loc[data.sex==\"female\"]\n",
    "male = data.loc[data.sex ==\"male\"]"
   ]
  },
  {
   "cell_type": "code",
   "execution_count": 21,
   "id": "354f1f13",
   "metadata": {},
   "outputs": [],
   "source": [
    "# select the bmi values for females and males.\n",
    "\n",
    "f_bmi = female.bmi\n",
    "m_bmi = male.bmi"
   ]
  },
  {
   "cell_type": "code",
   "execution_count": 22,
   "id": "fef1a18f",
   "metadata": {},
   "outputs": [
    {
     "data": {
      "text/plain": [
       "<Axes: xlabel='bmi', ylabel='Density'>"
      ]
     },
     "execution_count": 22,
     "metadata": {},
     "output_type": "execute_result"
    },
    {
     "data": {
      "image/png": "[encoded data removed]",
      "text/plain": [
       "<Figure size 640x480 with 1 Axes>"
      ]
     },
     "metadata": {},
     "output_type": "display_data"
    }
   ],
   "source": [
    "import seaborn as sns\n",
    "\n",
    "sns.distplot(f_bmi, color='green', hist=False)\n",
    "sns.distplot(m_bmi, color='red', hist=False)"
   ]
  },
  {
   "cell_type": "markdown",
   "id": "e64d925a",
   "metadata": {},
   "source": [
    "the two distributions are very similar."
   ]
  },
  {
   "cell_type": "code",
   "execution_count": 24,
   "id": "7bcc0c11",
   "metadata": {},
   "outputs": [
    {
     "name": "stdout",
     "output_type": "stream",
     "text": [
      "30.37774924471299\n",
      "30.943128698224854\n"
     ]
    }
   ],
   "source": [
    "print(female.bmi.mean())\n",
    "print(male.bmi.mean())"
   ]
  },
  {
   "cell_type": "code",
   "execution_count": 26,
   "id": "83d3c411",
   "metadata": {},
   "outputs": [
    {
     "name": "stdout",
     "output_type": "stream",
     "text": [
      "t_value1 =  1.696752635752224 , p_value1 =  0.08997637178984932\n"
     ]
    }
   ],
   "source": [
    "# calculate t-value and p-value.\n",
    "\n",
    "alpha=0.05\n",
    "t_value1, p_value1 = stats.ttest_ind(m_bmi, f_bmi)\n",
    "print(\"t_value1 = \",t_value1, \", p_value1 = \", p_value1)"
   ]
  },
  {
   "cell_type": "code",
   "execution_count": 27,
   "id": "f982ae8a",
   "metadata": {},
   "outputs": [
    {
     "name": "stdout",
     "output_type": "stream",
     "text": [
      "Conclusion: since p_value 0.08997637178984932 is greater than alpha 0.05 \n",
      "Fail to reject the null hypothesis that there is a difference between bmi of females and bmi of males.\n"
     ]
    }
   ],
   "source": [
    "if p_value1 <alpha:\n",
    "    print(\"Conclusion: since p_value {} is less than alpha {} \". format (p_value1,alpha))\n",
    "    print(\"Reject the null hypothesis that there is no difference between bmi of females and bmi of males.\")\n",
    "    \n",
    "else:\n",
    "    print(\"Conclusion: since p_value {} is greater than alpha {} \". format (p_value1,alpha))\n",
    "    print(\"Fail to reject the null hypothesis that there is a difference between bmi of females and bmi of males.\")"
   ]
  },
  {
   "cell_type": "markdown",
   "id": "c1be4b47",
   "metadata": {},
   "source": [
    "compare the mean values (𝜇) of population of people who smoke and those who do not smoke. First, we need to calculate the mean values of smoking and non smoking populations."
   ]
  },
  {
   "cell_type": "code",
   "execution_count": 28,
   "id": "eb61fa7a",
   "metadata": {},
   "outputs": [
    {
     "data": {
      "text/plain": [
       "32050.23183153284"
      ]
     },
     "execution_count": 28,
     "metadata": {},
     "output_type": "execute_result"
    }
   ],
   "source": [
    "smoker = data.loc[data.smoker==\"yes\"]\n",
    "smoker_char = smoker.charges\n",
    "sch_mean = smoker_char.mean()\n",
    "sch_mean"
   ]
  },
  {
   "cell_type": "code",
   "execution_count": 31,
   "id": "babd44f2",
   "metadata": {},
   "outputs": [
    {
     "data": {
      "text/plain": [
       "8434.268297856204"
      ]
     },
     "execution_count": 31,
     "metadata": {},
     "output_type": "execute_result"
    }
   ],
   "source": [
    "nonsmoker = data.loc[data.smoker==\"no\"]\n",
    "nonsmoker_char = nonsmoker.charges\n",
    "nsch_mean = nonsmoker_char.mean()\n",
    "nsch_mean"
   ]
  },
  {
   "cell_type": "markdown",
   "id": "22d040df",
   "metadata": {},
   "source": [
    "$ 𝐻_{0}:\\mu_{1} \\leq \\mu_{2} $ The average charges of smokers are less than or equal to nonsmokers. \\\n",
    "$ 𝐻_{A}:\\mu_{1} > \\mu_{2} $ The average charges of smokers are greater than or equal to nonsmokers."
   ]
  },
  {
   "cell_type": "code",
   "execution_count": 32,
   "id": "aa241977",
   "metadata": {},
   "outputs": [
    {
     "data": {
      "text/plain": [
       "[Text(0.5, 1.0, 'Fig:1 Smoker vs Charges')]"
      ]
     },
     "execution_count": 32,
     "metadata": {},
     "output_type": "execute_result"
    },
    {
     "data": {
      "image/png": "[encoded data removed]",
      "text/plain": [
       "<Figure size 640x480 with 1 Axes>"
      ]
     },
     "metadata": {},
     "output_type": "display_data"
    }
   ],
   "source": [
    "# plot our smoking versus nonsmoking populations by using seaborn boxplot() function.\n",
    "sns.boxplot(x=data.charges,y=data.smoker,data=data).set(title=\"Fig:1 Smoker vs Charges\")"
   ]
  },
  {
   "cell_type": "code",
   "execution_count": 33,
   "id": "3ffde924",
   "metadata": {},
   "outputs": [
    {
     "name": "stdout",
     "output_type": "stream",
     "text": [
      "t_value = 46.66492117272371 , p_value =8.271435842179101e-283 , p_value_onetail = 4.1357179210895507e-283\n"
     ]
    }
   ],
   "source": [
    "# calculate t-value and p-value of charges for smoking and nonsmoking populations.\n",
    "alpha=0.05\n",
    "t_val2, p_value2 = stats.ttest_ind(smoker_char, nonsmoker_char)\n",
    "p_value_onetail=p_value2/2\n",
    "print(\"t_value = {} , p_value ={} , p_value_onetail = {}\".format(t_val2, p_value2, p_value_onetail))"
   ]
  },
  {
   "cell_type": "code",
   "execution_count": 34,
   "id": "e6224a72",
   "metadata": {},
   "outputs": [
    {
     "name": "stdout",
     "output_type": "stream",
     "text": [
      "Conclusion: Since p-value 8.271435842179101e-283 is less than or equal to alpha 0.05.\n",
      "Reject the null hypothesis: average charges for smokers are less than nonsmokers.\n"
     ]
    }
   ],
   "source": [
    "if p_value2 <= alpha:\n",
    "    print(\"Conclusion: Since p-value {} is less than or equal to alpha {}.\".format(p_value2, alpha))\n",
    "    print(\"Reject the null hypothesis: average charges for smokers are less than nonsmokers.\")\n",
    "else:\n",
    "    print(\"Conclusion: Since p-value {} is greater than alpha {}.\".format(p_value2, alpha))\n",
    "    print(\"Failed to reject the null hypothesis: average charges for smokers are less than nonsmokers.\")"
   ]
  },
  {
   "cell_type": "markdown",
   "id": "d9f4d2cf",
   "metadata": {},
   "source": [
    "$ 𝐻_{0}:\\mu_{1}=\\mu_{2}=\\mu_{3} $ The mean BMI of women with no children , one child, and two children are the same. \\\n",
    "$ 𝐻_{A}: $ At least one of the means for women's BMI is not the same.\n"
   ]
  },
  {
   "cell_type": "code",
   "execution_count": 35,
   "id": "148bdb83",
   "metadata": {},
   "outputs": [],
   "source": [
    "# filter data for women with 0, 1 and 2 children.\n",
    "\n",
    "female_children = female.loc[female['children']<=2]"
   ]
  },
  {
   "cell_type": "code",
   "execution_count": 37,
   "id": "56fde86e",
   "metadata": {},
   "outputs": [
    {
     "data": {
      "text/plain": [
       "children\n",
       "0    30.361522\n",
       "1    30.052658\n",
       "2    30.649790\n",
       "Name: bmi, dtype: float64"
      ]
     },
     "execution_count": 37,
     "metadata": {},
     "output_type": "execute_result"
    }
   ],
   "source": [
    "# use groupby() function to group the information by the number of children and bmi values.\n",
    "female_children.groupby([female_children.children]).bmi.mean()"
   ]
  },
  {
   "cell_type": "code",
   "execution_count": 38,
   "id": "45b0b6d5",
   "metadata": {},
   "outputs": [
    {
     "data": {
      "image/png": "[encoded data removed]",
      "text/plain": [
       "<Figure size 640x480 with 1 Axes>"
      ]
     },
     "metadata": {},
     "output_type": "display_data"
    }
   ],
   "source": [
    "# draw the boxplots to visualize the difference in bmi values between these 3 groups.\n",
    "sns.boxplot(x=\"children\", y=\"bmi\", data=female_children)\n",
    "plt.grid()\n",
    "plt.show()"
   ]
  },
  {
   "cell_type": "markdown",
   "id": "c6427309",
   "metadata": {},
   "source": [
    "construct the ANOVA table and check for each groups count (0,1,2 children) against the bmi values. We will use the ols (ordinary least squares) model for estimation of the unknown parameters."
   ]
  },
  {
   "cell_type": "code",
   "execution_count": 39,
   "id": "0bb03f71",
   "metadata": {},
   "outputs": [
    {
     "data": {
      "text/html": [
       "<div>\n",
       "<style scoped>\n",
       "    .dataframe tbody tr th:only-of-type {\n",
       "        vertical-align: middle;\n",
       "    }\n",
       "\n",
       "    .dataframe tbody tr th {\n",
       "        vertical-align: top;\n",
       "    }\n",
       "\n",
       "    .dataframe thead th {\n",
       "        text-align: right;\n",
       "    }\n",
       "</style>\n",
       "<table border=\"1\" class=\"dataframe\">\n",
       "  <thead>\n",
       "    <tr style=\"text-align: right;\">\n",
       "      <th></th>\n",
       "      <th>df</th>\n",
       "      <th>sum_sq</th>\n",
       "      <th>mean_sq</th>\n",
       "      <th>F</th>\n",
       "      <th>PR(&gt;F)</th>\n",
       "    </tr>\n",
       "  </thead>\n",
       "  <tbody>\n",
       "    <tr>\n",
       "      <th>C(children)</th>\n",
       "      <td>2.0</td>\n",
       "      <td>24.590123</td>\n",
       "      <td>12.295062</td>\n",
       "      <td>0.334472</td>\n",
       "      <td>0.715858</td>\n",
       "    </tr>\n",
       "    <tr>\n",
       "      <th>Residual</th>\n",
       "      <td>563.0</td>\n",
       "      <td>20695.661583</td>\n",
       "      <td>36.759612</td>\n",
       "      <td>NaN</td>\n",
       "      <td>NaN</td>\n",
       "    </tr>\n",
       "  </tbody>\n",
       "</table>\n",
       "</div>"
      ],
      "text/plain": [
       "                df        sum_sq    mean_sq         F    PR(>F)\n",
       "C(children)    2.0     24.590123  12.295062  0.334472  0.715858\n",
       "Residual     563.0  20695.661583  36.759612       NaN       NaN"
      ]
     },
     "execution_count": 39,
     "metadata": {},
     "output_type": "execute_result"
    }
   ],
   "source": [
    "formula = 'bmi ~ C(children)'\n",
    "model = ols(formula, female_children).fit()\n",
    "aov_table = anova_lm(model)\n",
    "aov_table"
   ]
  },
  {
   "cell_type": "markdown",
   "id": "1b4c562f",
   "metadata": {},
   "source": [
    "Conclusion: p-value is 0.715858 and it is greater than the alpha (0.05), therefore we fail to reject the null hypothesis and conclude that the mean bmi of women with no children, one child, and two children are the same."
   ]
  },
  {
   "cell_type": "markdown",
   "id": "493168a0",
   "metadata": {},
   "source": [
    "$ 𝐻_{0} $: Smokers proportions are not significantly different across the different regions. \\\n",
    "$ 𝐻_{A} $: Smokers proportions are different across the different regions."
   ]
  },
  {
   "cell_type": "markdown",
   "id": "2eb4c841",
   "metadata": {},
   "source": [
    "calculate a contingency table between the proportions of smokers in different regions. For this, use pandas crosstab() function."
   ]
  },
  {
   "cell_type": "code",
   "execution_count": 40,
   "id": "423e06db",
   "metadata": {},
   "outputs": [
    {
     "data": {
      "text/html": [
       "<div>\n",
       "<style scoped>\n",
       "    .dataframe tbody tr th:only-of-type {\n",
       "        vertical-align: middle;\n",
       "    }\n",
       "\n",
       "    .dataframe tbody tr th {\n",
       "        vertical-align: top;\n",
       "    }\n",
       "\n",
       "    .dataframe thead th {\n",
       "        text-align: right;\n",
       "    }\n",
       "</style>\n",
       "<table border=\"1\" class=\"dataframe\">\n",
       "  <thead>\n",
       "    <tr style=\"text-align: right;\">\n",
       "      <th>smoker</th>\n",
       "      <th>no</th>\n",
       "      <th>yes</th>\n",
       "    </tr>\n",
       "    <tr>\n",
       "      <th>region</th>\n",
       "      <th></th>\n",
       "      <th></th>\n",
       "    </tr>\n",
       "  </thead>\n",
       "  <tbody>\n",
       "    <tr>\n",
       "      <th>northeast</th>\n",
       "      <td>257</td>\n",
       "      <td>67</td>\n",
       "    </tr>\n",
       "    <tr>\n",
       "      <th>northwest</th>\n",
       "      <td>267</td>\n",
       "      <td>58</td>\n",
       "    </tr>\n",
       "    <tr>\n",
       "      <th>southeast</th>\n",
       "      <td>273</td>\n",
       "      <td>91</td>\n",
       "    </tr>\n",
       "    <tr>\n",
       "      <th>southwest</th>\n",
       "      <td>267</td>\n",
       "      <td>58</td>\n",
       "    </tr>\n",
       "  </tbody>\n",
       "</table>\n",
       "</div>"
      ],
      "text/plain": [
       "smoker      no  yes\n",
       "region             \n",
       "northeast  257   67\n",
       "northwest  267   58\n",
       "southeast  273   91\n",
       "southwest  267   58"
      ]
     },
     "execution_count": 40,
     "metadata": {},
     "output_type": "execute_result"
    }
   ],
   "source": [
    "contingency= pd.crosstab(data.region, data.smoker)\n",
    "contingency"
   ]
  },
  {
   "cell_type": "code",
   "execution_count": 41,
   "id": "92341e30",
   "metadata": {},
   "outputs": [
    {
     "data": {
      "text/plain": [
       "Text(0.5, 1.0, 'Distribution of Smokers and Non-Smokers by Region')"
      ]
     },
     "execution_count": 41,
     "metadata": {},
     "output_type": "execute_result"
    },
    {
     "data": {
      "image/png": "[encoded data removed]",
      "text/plain": [
       "<Figure size 640x480 with 1 Axes>"
      ]
     },
     "metadata": {},
     "output_type": "display_data"
    }
   ],
   "source": [
    "# plot the distribution of nonsmokers/smokers across 4 different regions.\n",
    "contingency.plot(kind='bar')\n",
    "plt.title('Distribution of Smokers and Non-Smokers by Region')"
   ]
  },
  {
   "cell_type": "markdown",
   "id": "56d1e6a2",
   "metadata": {},
   "source": [
    " using chi2_contingency() method, from the scipy.stats chi2_contingency, I will calculate chi-squared, p-value, degrees of freedom, and expected frequencies for our data."
   ]
  },
  {
   "cell_type": "code",
   "execution_count": 42,
   "id": "4096f156",
   "metadata": {},
   "outputs": [
    {
     "name": "stdout",
     "output_type": "stream",
     "text": [
      "chi-square statistic: 7.343477761407071 , p_value: 0.06171954839170541 , degree of freedom: 3 ,expected frequencies: [[257.65022422  66.34977578]\n",
      " [258.44544096  66.55455904]\n",
      " [289.45889387  74.54110613]\n",
      " [258.44544096  66.55455904]] \n"
     ]
    }
   ],
   "source": [
    "chi2, p_val, dof, exp_freq = chi2_contingency(contingency, correction = False)\n",
    "print('chi-square statistic: {} , p_value: {} , degree of freedom: {} ,expected frequencies: {} '.format(chi2, p_val, dof, exp_freq))"
   ]
  },
  {
   "cell_type": "code",
   "execution_count": 43,
   "id": "8851fd11",
   "metadata": {},
   "outputs": [
    {
     "name": "stdout",
     "output_type": "stream",
     "text": [
      "Accept the null hypothesis, that the smokers proportions are not significantly different across the different regions\n"
     ]
    }
   ],
   "source": [
    "if (p_val < 0.05):\n",
    "    print('Reject the null hypothesis, that the smokers proportions are not significantly different across the different regions')\n",
    "else:\n",
    "    print('Accept the null hypothesis, that the smokers proportions are not significantly different across the different regions')"
   ]
  }
 ],
 "metadata": {
  "kernelspec": {
   "display_name": "base",
   "language": "python",
   "name": "python3"
  },
  "language_info": {
   "codemirror_mode": {
    "name": "ipython",
    "version": 3
   },
   "file_extension": ".py",
   "mimetype": "text/x-python",
   "name": "python",
   "nbconvert_exporter": "python",
   "pygments_lexer": "ipython3",
   "version": "3.11.7"
  }
 },
 "nbformat": 4,
 "nbformat_minor": 5
}
